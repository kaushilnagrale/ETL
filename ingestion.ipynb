{
 "cells": [
  {
   "cell_type": "code",
   "execution_count": 8,
   "metadata": {},
   "outputs": [],
   "source": [
    "import os\n",
    "import pandas as pd\n",
    "from kaggle.api.kaggle_api_extended import KaggleApi\n",
    "\n",
    "\n",
    "def import_kaggle_dataset(dataset_name,download_folder,script_directory):\n",
    "    \n",
    "    # Specify the directory where you want to download the dataset\n",
    "    download_path = os.path.join(script_directory, download_folder)\n",
    "\n",
    "    # Set the current working directory\n",
    "    os.chdir(script_directory)\n",
    "\n",
    "    # Create the Kaggle API object\n",
    "    api = KaggleApi()\n",
    "    api.authenticate()\n",
    "\n",
    "    # Download the dataset\n",
    "    api.dataset_download_files(dataset_name, path=download_path, unzip=True)\n"
   ]
  },
  {
   "cell_type": "code",
   "execution_count": 9,
   "metadata": {},
   "outputs": [],
   "source": [
    "# Get the absolute path of the script\n",
    "script_directory = os.getcwd()\n",
    "# Replace \"amineoumous/50-startups-data\" with the desired dataset\n",
    "dataset_name = \"amineoumous/50-startups-data\"\n",
    "download_folder = \"data\"\n",
    "\n",
    "import_kaggle_dataset(dataset_name,download_folder,script_directory)"
   ]
  }
 ],
 "metadata": {
  "kernelspec": {
   "display_name": "Python 3",
   "language": "python",
   "name": "python3"
  },
  "language_info": {
   "codemirror_mode": {
    "name": "ipython",
    "version": 3
   },
   "file_extension": ".py",
   "mimetype": "text/x-python",
   "name": "python",
   "nbconvert_exporter": "python",
   "pygments_lexer": "ipython3",
   "version": "3.9.13"
  }
 },
 "nbformat": 4,
 "nbformat_minor": 2
}
